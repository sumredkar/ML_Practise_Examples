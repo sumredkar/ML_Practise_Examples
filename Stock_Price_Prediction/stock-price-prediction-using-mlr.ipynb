{
 "cells": [
  {
   "cell_type": "code",
   "execution_count": 1,
   "metadata": {
    "_cell_guid": "b1076dfc-b9ad-4769-8c92-a6c4dae69d19",
    "_uuid": "8f2839f25d086af736a60e9eeb907d3b93b6e0e5",
    "execution": {
     "iopub.execute_input": "2020-10-11T11:48:07.761837Z",
     "iopub.status.busy": "2020-10-11T11:48:07.760954Z",
     "iopub.status.idle": "2020-10-11T11:48:09.089182Z",
     "shell.execute_reply": "2020-10-11T11:48:09.088240Z"
    },
    "papermill": {
     "duration": 1.377236,
     "end_time": "2020-10-11T11:48:09.089360",
     "exception": false,
     "start_time": "2020-10-11T11:48:07.712124",
     "status": "completed"
    },
    "tags": []
   },
   "outputs": [
    {
     "name": "stdout",
     "output_type": "stream",
     "text": [
      "/kaggle/input/stock-data/trainset.csv\n",
      "/kaggle/input/stock-data/testset.csv\n"
     ]
    }
   ],
   "source": [
    "# This Python 3 environment comes with many helpful analytics libraries installed\n",
    "# It is defined by the kaggle/python Docker image: https://github.com/kaggle/docker-python\n",
    "# For example, here's several helpful packages to load\n",
    "\n",
    "import numpy as np # linear algebra\n",
    "import pandas as pd # data processing, CSV file I/O (e.g. pd.read_csv)\n",
    "from sklearn.model_selection  import train_test_split\n",
    "from sklearn.linear_model import LinearRegression\n",
    "import matplotlib.pyplot as plt\n",
    "%matplotlib inline\n",
    "# Input data files are available in the read-only \"../input/\" directory\n",
    "# For example, running this (by clicking run or pressing Shift+Enter) will list all files under the input directory\n",
    "\n",
    "import os\n",
    "for dirname, _, filenames in os.walk('/kaggle/input'):\n",
    "    for filename in filenames:\n",
    "        print(os.path.join(dirname, filename))\n",
    "\n",
    "# You can write up to 5GB to the current directory (/kaggle/working/) that gets preserved as output when you create a version using \"Save & Run All\" \n",
    "# You can also write temporary files to /kaggle/temp/, but they won't be saved outside of the current session"
   ]
  },
  {
   "cell_type": "code",
   "execution_count": 2,
   "metadata": {
    "_cell_guid": "79c7e3d0-c299-4dcb-8224-4455121ee9b0",
    "_uuid": "d629ff2d2480ee46fbb7e2d37f6b5fab8052498a",
    "execution": {
     "iopub.execute_input": "2020-10-11T11:48:09.163545Z",
     "iopub.status.busy": "2020-10-11T11:48:09.162667Z",
     "iopub.status.idle": "2020-10-11T11:48:09.216621Z",
     "shell.execute_reply": "2020-10-11T11:48:09.217217Z"
    },
    "papermill": {
     "duration": 0.09451,
     "end_time": "2020-10-11T11:48:09.217422",
     "exception": false,
     "start_time": "2020-10-11T11:48:09.122912",
     "status": "completed"
    },
    "tags": []
   },
   "outputs": [
    {
     "data": {
      "text/html": [
       "<div>\n",
       "<style scoped>\n",
       "    .dataframe tbody tr th:only-of-type {\n",
       "        vertical-align: middle;\n",
       "    }\n",
       "\n",
       "    .dataframe tbody tr th {\n",
       "        vertical-align: top;\n",
       "    }\n",
       "\n",
       "    .dataframe thead th {\n",
       "        text-align: right;\n",
       "    }\n",
       "</style>\n",
       "<table border=\"1\" class=\"dataframe\">\n",
       "  <thead>\n",
       "    <tr style=\"text-align: right;\">\n",
       "      <th></th>\n",
       "      <th>Date</th>\n",
       "      <th>Open</th>\n",
       "      <th>High</th>\n",
       "      <th>Low</th>\n",
       "      <th>Close</th>\n",
       "      <th>Adj Close</th>\n",
       "      <th>Volume</th>\n",
       "    </tr>\n",
       "  </thead>\n",
       "  <tbody>\n",
       "    <tr>\n",
       "      <th>0</th>\n",
       "      <td>2013-01-02</td>\n",
       "      <td>357.385559</td>\n",
       "      <td>361.151062</td>\n",
       "      <td>355.959839</td>\n",
       "      <td>359.288177</td>\n",
       "      <td>359.288177</td>\n",
       "      <td>5115500</td>\n",
       "    </tr>\n",
       "    <tr>\n",
       "      <th>1</th>\n",
       "      <td>2013-01-03</td>\n",
       "      <td>360.122742</td>\n",
       "      <td>363.600128</td>\n",
       "      <td>358.031342</td>\n",
       "      <td>359.496826</td>\n",
       "      <td>359.496826</td>\n",
       "      <td>4666500</td>\n",
       "    </tr>\n",
       "    <tr>\n",
       "      <th>2</th>\n",
       "      <td>2013-01-04</td>\n",
       "      <td>362.313507</td>\n",
       "      <td>368.339294</td>\n",
       "      <td>361.488861</td>\n",
       "      <td>366.600616</td>\n",
       "      <td>366.600616</td>\n",
       "      <td>5562800</td>\n",
       "    </tr>\n",
       "    <tr>\n",
       "      <th>3</th>\n",
       "      <td>2013-01-07</td>\n",
       "      <td>365.348755</td>\n",
       "      <td>367.301056</td>\n",
       "      <td>362.929504</td>\n",
       "      <td>365.001007</td>\n",
       "      <td>365.001007</td>\n",
       "      <td>3332900</td>\n",
       "    </tr>\n",
       "    <tr>\n",
       "      <th>4</th>\n",
       "      <td>2013-01-08</td>\n",
       "      <td>365.393463</td>\n",
       "      <td>365.771027</td>\n",
       "      <td>359.874359</td>\n",
       "      <td>364.280701</td>\n",
       "      <td>364.280701</td>\n",
       "      <td>3373900</td>\n",
       "    </tr>\n",
       "  </tbody>\n",
       "</table>\n",
       "</div>"
      ],
      "text/plain": [
       "         Date        Open        High         Low       Close   Adj Close  \\\n",
       "0  2013-01-02  357.385559  361.151062  355.959839  359.288177  359.288177   \n",
       "1  2013-01-03  360.122742  363.600128  358.031342  359.496826  359.496826   \n",
       "2  2013-01-04  362.313507  368.339294  361.488861  366.600616  366.600616   \n",
       "3  2013-01-07  365.348755  367.301056  362.929504  365.001007  365.001007   \n",
       "4  2013-01-08  365.393463  365.771027  359.874359  364.280701  364.280701   \n",
       "\n",
       "    Volume  \n",
       "0  5115500  \n",
       "1  4666500  \n",
       "2  5562800  \n",
       "3  3332900  \n",
       "4  3373900  "
      ]
     },
     "execution_count": 2,
     "metadata": {},
     "output_type": "execute_result"
    }
   ],
   "source": [
    "# read the train data from datasets\n",
    "data = pd.read_csv(\"/kaggle/input/stock-data/trainset.csv\")\n",
    "data.head()"
   ]
  },
  {
   "cell_type": "markdown",
   "metadata": {
    "papermill": {
     "duration": 0.032893,
     "end_time": "2020-10-11T11:48:09.284262",
     "exception": false,
     "start_time": "2020-10-11T11:48:09.251369",
     "status": "completed"
    },
    "tags": []
   },
   "source": [
    "Column (Open and close): open and close indicates the starting and final price of stock for that specific day\n",
    "Column (High and Low): Indicates the maximum and minimum stock price for that specific day"
   ]
  },
  {
   "cell_type": "code",
   "execution_count": 3,
   "metadata": {
    "execution": {
     "iopub.execute_input": "2020-10-11T11:48:09.371712Z",
     "iopub.status.busy": "2020-10-11T11:48:09.366141Z",
     "iopub.status.idle": "2020-10-11T11:48:09.377436Z",
     "shell.execute_reply": "2020-10-11T11:48:09.376656Z"
    },
    "papermill": {
     "duration": 0.059367,
     "end_time": "2020-10-11T11:48:09.377582",
     "exception": false,
     "start_time": "2020-10-11T11:48:09.318215",
     "status": "completed"
    },
    "tags": []
   },
   "outputs": [
    {
     "data": {
      "text/html": [
       "<div>\n",
       "<style scoped>\n",
       "    .dataframe tbody tr th:only-of-type {\n",
       "        vertical-align: middle;\n",
       "    }\n",
       "\n",
       "    .dataframe tbody tr th {\n",
       "        vertical-align: top;\n",
       "    }\n",
       "\n",
       "    .dataframe thead th {\n",
       "        text-align: right;\n",
       "    }\n",
       "</style>\n",
       "<table border=\"1\" class=\"dataframe\">\n",
       "  <thead>\n",
       "    <tr style=\"text-align: right;\">\n",
       "      <th></th>\n",
       "      <th>Date</th>\n",
       "      <th>Open</th>\n",
       "      <th>High</th>\n",
       "      <th>Low</th>\n",
       "      <th>Close</th>\n",
       "      <th>Adj Close</th>\n",
       "      <th>Volume</th>\n",
       "    </tr>\n",
       "  </thead>\n",
       "  <tbody>\n",
       "    <tr>\n",
       "      <th>0</th>\n",
       "      <td>2013-01-02</td>\n",
       "      <td>357.385559</td>\n",
       "      <td>361.151062</td>\n",
       "      <td>355.959839</td>\n",
       "      <td>359.288177</td>\n",
       "      <td>359.288177</td>\n",
       "      <td>5115500</td>\n",
       "    </tr>\n",
       "    <tr>\n",
       "      <th>1</th>\n",
       "      <td>2013-01-03</td>\n",
       "      <td>360.122742</td>\n",
       "      <td>363.600128</td>\n",
       "      <td>358.031342</td>\n",
       "      <td>359.496826</td>\n",
       "      <td>359.496826</td>\n",
       "      <td>4666500</td>\n",
       "    </tr>\n",
       "    <tr>\n",
       "      <th>2</th>\n",
       "      <td>2013-01-04</td>\n",
       "      <td>362.313507</td>\n",
       "      <td>368.339294</td>\n",
       "      <td>361.488861</td>\n",
       "      <td>366.600616</td>\n",
       "      <td>366.600616</td>\n",
       "      <td>5562800</td>\n",
       "    </tr>\n",
       "    <tr>\n",
       "      <th>3</th>\n",
       "      <td>2013-01-07</td>\n",
       "      <td>365.348755</td>\n",
       "      <td>367.301056</td>\n",
       "      <td>362.929504</td>\n",
       "      <td>365.001007</td>\n",
       "      <td>365.001007</td>\n",
       "      <td>3332900</td>\n",
       "    </tr>\n",
       "    <tr>\n",
       "      <th>4</th>\n",
       "      <td>2013-01-08</td>\n",
       "      <td>365.393463</td>\n",
       "      <td>365.771027</td>\n",
       "      <td>359.874359</td>\n",
       "      <td>364.280701</td>\n",
       "      <td>364.280701</td>\n",
       "      <td>3373900</td>\n",
       "    </tr>\n",
       "  </tbody>\n",
       "</table>\n",
       "</div>"
      ],
      "text/plain": [
       "        Date        Open        High         Low       Close   Adj Close  \\\n",
       "0 2013-01-02  357.385559  361.151062  355.959839  359.288177  359.288177   \n",
       "1 2013-01-03  360.122742  363.600128  358.031342  359.496826  359.496826   \n",
       "2 2013-01-04  362.313507  368.339294  361.488861  366.600616  366.600616   \n",
       "3 2013-01-07  365.348755  367.301056  362.929504  365.001007  365.001007   \n",
       "4 2013-01-08  365.393463  365.771027  359.874359  364.280701  364.280701   \n",
       "\n",
       "    Volume  \n",
       "0  5115500  \n",
       "1  4666500  \n",
       "2  5562800  \n",
       "3  3332900  \n",
       "4  3373900  "
      ]
     },
     "execution_count": 3,
     "metadata": {},
     "output_type": "execute_result"
    }
   ],
   "source": [
    "# convert date into proper format\n",
    "data[\"Date\"] = pd.to_datetime(data[\"Date\"])\n",
    "data.head()"
   ]
  },
  {
   "cell_type": "code",
   "execution_count": 4,
   "metadata": {
    "execution": {
     "iopub.execute_input": "2020-10-11T11:48:09.456831Z",
     "iopub.status.busy": "2020-10-11T11:48:09.455902Z",
     "iopub.status.idle": "2020-10-11T11:48:09.740199Z",
     "shell.execute_reply": "2020-10-11T11:48:09.739567Z"
    },
    "papermill": {
     "duration": 0.328897,
     "end_time": "2020-10-11T11:48:09.740332",
     "exception": false,
     "start_time": "2020-10-11T11:48:09.411435",
     "status": "completed"
    },
    "tags": []
   },
   "outputs": [
    {
     "data": {
      "image/png": "[encoded data removed]",
      "text/plain": [
       "<Figure size 432x288 with 1 Axes>"
      ]
     },
     "metadata": {
      "needs_background": "light"
     },
     "output_type": "display_data"
    }
   ],
   "source": [
    "# close is our target variable and all othres are independent variables\n",
    "# check the relationship between dependent and independent variables\n",
    "fig = plt.figure()\n",
    "ax = fig.add_axes([0,0,1,1])\n",
    "ax.scatter(data[\"Close\"], data[\"Open\"], color=\"blue\")\n",
    "ax.scatter(data[\"Close\"], data[\"High\"], color=\"red\")\n",
    "ax.scatter(data[\"Close\"], data[\"Low\"], color=\"green\")\n",
    "ax.set_xlabel(\"Dependent variable\")\n",
    "ax.set_ylabel(\"Indepedent varibales\")\n",
    "ax.set_title(\"Co-Relation Scatter Plot\")\n",
    "plt.show()"
   ]
  },
  {
   "cell_type": "markdown",
   "metadata": {
    "papermill": {
     "duration": 0.03428,
     "end_time": "2020-10-11T11:48:09.809307",
     "exception": false,
     "start_time": "2020-10-11T11:48:09.775027",
     "status": "completed"
    },
    "tags": []
   },
   "source": [
    "From the above graph , we can see the linear relation between target and independent variables"
   ]
  },
  {
   "cell_type": "code",
   "execution_count": 5,
   "metadata": {
    "execution": {
     "iopub.execute_input": "2020-10-11T11:48:09.898361Z",
     "iopub.status.busy": "2020-10-11T11:48:09.897435Z",
     "iopub.status.idle": "2020-10-11T11:48:09.903104Z",
     "shell.execute_reply": "2020-10-11T11:48:09.902354Z"
    },
    "papermill": {
     "duration": 0.059356,
     "end_time": "2020-10-11T11:48:09.903239",
     "exception": false,
     "start_time": "2020-10-11T11:48:09.843883",
     "status": "completed"
    },
    "tags": []
   },
   "outputs": [
    {
     "data": {
      "text/html": [
       "<div>\n",
       "<style scoped>\n",
       "    .dataframe tbody tr th:only-of-type {\n",
       "        vertical-align: middle;\n",
       "    }\n",
       "\n",
       "    .dataframe tbody tr th {\n",
       "        vertical-align: top;\n",
       "    }\n",
       "\n",
       "    .dataframe thead th {\n",
       "        text-align: right;\n",
       "    }\n",
       "</style>\n",
       "<table border=\"1\" class=\"dataframe\">\n",
       "  <thead>\n",
       "    <tr style=\"text-align: right;\">\n",
       "      <th></th>\n",
       "      <th>Date</th>\n",
       "      <th>Open</th>\n",
       "      <th>High</th>\n",
       "      <th>Low</th>\n",
       "      <th>Close</th>\n",
       "      <th>Adj Close</th>\n",
       "      <th>Volume</th>\n",
       "      <th>dayofweek</th>\n",
       "    </tr>\n",
       "  </thead>\n",
       "  <tbody>\n",
       "    <tr>\n",
       "      <th>0</th>\n",
       "      <td>2013-01-02</td>\n",
       "      <td>357.385559</td>\n",
       "      <td>361.151062</td>\n",
       "      <td>355.959839</td>\n",
       "      <td>359.288177</td>\n",
       "      <td>359.288177</td>\n",
       "      <td>5115500</td>\n",
       "      <td>2</td>\n",
       "    </tr>\n",
       "    <tr>\n",
       "      <th>1</th>\n",
       "      <td>2013-01-03</td>\n",
       "      <td>360.122742</td>\n",
       "      <td>363.600128</td>\n",
       "      <td>358.031342</td>\n",
       "      <td>359.496826</td>\n",
       "      <td>359.496826</td>\n",
       "      <td>4666500</td>\n",
       "      <td>3</td>\n",
       "    </tr>\n",
       "    <tr>\n",
       "      <th>2</th>\n",
       "      <td>2013-01-04</td>\n",
       "      <td>362.313507</td>\n",
       "      <td>368.339294</td>\n",
       "      <td>361.488861</td>\n",
       "      <td>366.600616</td>\n",
       "      <td>366.600616</td>\n",
       "      <td>5562800</td>\n",
       "      <td>4</td>\n",
       "    </tr>\n",
       "    <tr>\n",
       "      <th>3</th>\n",
       "      <td>2013-01-07</td>\n",
       "      <td>365.348755</td>\n",
       "      <td>367.301056</td>\n",
       "      <td>362.929504</td>\n",
       "      <td>365.001007</td>\n",
       "      <td>365.001007</td>\n",
       "      <td>3332900</td>\n",
       "      <td>0</td>\n",
       "    </tr>\n",
       "    <tr>\n",
       "      <th>4</th>\n",
       "      <td>2013-01-08</td>\n",
       "      <td>365.393463</td>\n",
       "      <td>365.771027</td>\n",
       "      <td>359.874359</td>\n",
       "      <td>364.280701</td>\n",
       "      <td>364.280701</td>\n",
       "      <td>3373900</td>\n",
       "      <td>1</td>\n",
       "    </tr>\n",
       "  </tbody>\n",
       "</table>\n",
       "</div>"
      ],
      "text/plain": [
       "        Date        Open        High         Low       Close   Adj Close  \\\n",
       "0 2013-01-02  357.385559  361.151062  355.959839  359.288177  359.288177   \n",
       "1 2013-01-03  360.122742  363.600128  358.031342  359.496826  359.496826   \n",
       "2 2013-01-04  362.313507  368.339294  361.488861  366.600616  366.600616   \n",
       "3 2013-01-07  365.348755  367.301056  362.929504  365.001007  365.001007   \n",
       "4 2013-01-08  365.393463  365.771027  359.874359  364.280701  364.280701   \n",
       "\n",
       "    Volume  dayofweek  \n",
       "0  5115500          2  \n",
       "1  4666500          3  \n",
       "2  5562800          4  \n",
       "3  3332900          0  \n",
       "4  3373900          1  "
      ]
     },
     "execution_count": 5,
     "metadata": {},
     "output_type": "execute_result"
    }
   ],
   "source": [
    "# calculate day of the week from date\n",
    "data[\"dayofweek\"] = data[\"Date\"].dt.dayofweek\n",
    "data.head()"
   ]
  },
  {
   "cell_type": "markdown",
   "metadata": {
    "papermill": {
     "duration": 0.035218,
     "end_time": "2020-10-11T11:48:09.974386",
     "exception": false,
     "start_time": "2020-10-11T11:48:09.939168",
     "status": "completed"
    },
    "tags": []
   },
   "source": [
    "Convert dayofweek into friday/monday then 1 and if tuesday/wensday/thursay then 0 "
   ]
  },
  {
   "cell_type": "code",
   "execution_count": 6,
   "metadata": {
    "execution": {
     "iopub.execute_input": "2020-10-11T11:48:10.058810Z",
     "iopub.status.busy": "2020-10-11T11:48:10.057866Z",
     "iopub.status.idle": "2020-10-11T11:48:10.206677Z",
     "shell.execute_reply": "2020-10-11T11:48:10.207341Z"
    },
    "papermill": {
     "duration": 0.196577,
     "end_time": "2020-10-11T11:48:10.207508",
     "exception": false,
     "start_time": "2020-10-11T11:48:10.010931",
     "status": "completed"
    },
    "tags": []
   },
   "outputs": [
    {
     "name": "stderr",
     "output_type": "stream",
     "text": [
      "/opt/conda/lib/python3.7/site-packages/ipykernel_launcher.py:6: SettingWithCopyWarning: \n",
      "A value is trying to be set on a copy of a slice from a DataFrame\n",
      "\n",
      "See the caveats in the documentation: https://pandas.pydata.org/pandas-docs/stable/user_guide/indexing.html#returning-a-view-versus-a-copy\n",
      "  \n",
      "/opt/conda/lib/python3.7/site-packages/ipykernel_launcher.py:4: SettingWithCopyWarning: \n",
      "A value is trying to be set on a copy of a slice from a DataFrame\n",
      "\n",
      "See the caveats in the documentation: https://pandas.pydata.org/pandas-docs/stable/user_guide/indexing.html#returning-a-view-versus-a-copy\n",
      "  after removing the cwd from sys.path.\n"
     ]
    },
    {
     "data": {
      "text/html": [
       "<div>\n",
       "<style scoped>\n",
       "    .dataframe tbody tr th:only-of-type {\n",
       "        vertical-align: middle;\n",
       "    }\n",
       "\n",
       "    .dataframe tbody tr th {\n",
       "        vertical-align: top;\n",
       "    }\n",
       "\n",
       "    .dataframe thead th {\n",
       "        text-align: right;\n",
       "    }\n",
       "</style>\n",
       "<table border=\"1\" class=\"dataframe\">\n",
       "  <thead>\n",
       "    <tr style=\"text-align: right;\">\n",
       "      <th></th>\n",
       "      <th>Date</th>\n",
       "      <th>Open</th>\n",
       "      <th>High</th>\n",
       "      <th>Low</th>\n",
       "      <th>Close</th>\n",
       "      <th>Adj Close</th>\n",
       "      <th>Volume</th>\n",
       "      <th>dayofweek</th>\n",
       "      <th>mon_fri</th>\n",
       "    </tr>\n",
       "  </thead>\n",
       "  <tbody>\n",
       "    <tr>\n",
       "      <th>0</th>\n",
       "      <td>2013-01-02</td>\n",
       "      <td>357.385559</td>\n",
       "      <td>361.151062</td>\n",
       "      <td>355.959839</td>\n",
       "      <td>359.288177</td>\n",
       "      <td>359.288177</td>\n",
       "      <td>5115500</td>\n",
       "      <td>2</td>\n",
       "      <td>0</td>\n",
       "    </tr>\n",
       "    <tr>\n",
       "      <th>1</th>\n",
       "      <td>2013-01-03</td>\n",
       "      <td>360.122742</td>\n",
       "      <td>363.600128</td>\n",
       "      <td>358.031342</td>\n",
       "      <td>359.496826</td>\n",
       "      <td>359.496826</td>\n",
       "      <td>4666500</td>\n",
       "      <td>3</td>\n",
       "      <td>0</td>\n",
       "    </tr>\n",
       "    <tr>\n",
       "      <th>2</th>\n",
       "      <td>2013-01-04</td>\n",
       "      <td>362.313507</td>\n",
       "      <td>368.339294</td>\n",
       "      <td>361.488861</td>\n",
       "      <td>366.600616</td>\n",
       "      <td>366.600616</td>\n",
       "      <td>5562800</td>\n",
       "      <td>4</td>\n",
       "      <td>1</td>\n",
       "    </tr>\n",
       "    <tr>\n",
       "      <th>3</th>\n",
       "      <td>2013-01-07</td>\n",
       "      <td>365.348755</td>\n",
       "      <td>367.301056</td>\n",
       "      <td>362.929504</td>\n",
       "      <td>365.001007</td>\n",
       "      <td>365.001007</td>\n",
       "      <td>3332900</td>\n",
       "      <td>0</td>\n",
       "      <td>1</td>\n",
       "    </tr>\n",
       "    <tr>\n",
       "      <th>4</th>\n",
       "      <td>2013-01-08</td>\n",
       "      <td>365.393463</td>\n",
       "      <td>365.771027</td>\n",
       "      <td>359.874359</td>\n",
       "      <td>364.280701</td>\n",
       "      <td>364.280701</td>\n",
       "      <td>3373900</td>\n",
       "      <td>1</td>\n",
       "      <td>0</td>\n",
       "    </tr>\n",
       "  </tbody>\n",
       "</table>\n",
       "</div>"
      ],
      "text/plain": [
       "        Date        Open        High         Low       Close   Adj Close  \\\n",
       "0 2013-01-02  357.385559  361.151062  355.959839  359.288177  359.288177   \n",
       "1 2013-01-03  360.122742  363.600128  358.031342  359.496826  359.496826   \n",
       "2 2013-01-04  362.313507  368.339294  361.488861  366.600616  366.600616   \n",
       "3 2013-01-07  365.348755  367.301056  362.929504  365.001007  365.001007   \n",
       "4 2013-01-08  365.393463  365.771027  359.874359  364.280701  364.280701   \n",
       "\n",
       "    Volume  dayofweek  mon_fri  \n",
       "0  5115500          2        0  \n",
       "1  4666500          3        0  \n",
       "2  5562800          4        1  \n",
       "3  3332900          0        1  \n",
       "4  3373900          1        0  "
      ]
     },
     "execution_count": 6,
     "metadata": {},
     "output_type": "execute_result"
    }
   ],
   "source": [
    "data['mon_fri'] = 0\n",
    "for i in range(0,len(data)):\n",
    "    if (data['dayofweek'][i] == 0 or data['dayofweek'][i] == 4):\n",
    "        data['mon_fri'][i] = 1\n",
    "    else:\n",
    "        data['mon_fri'][i] = 0\n",
    "data.head()"
   ]
  },
  {
   "cell_type": "code",
   "execution_count": 7,
   "metadata": {
    "execution": {
     "iopub.execute_input": "2020-10-11T11:48:10.290428Z",
     "iopub.status.busy": "2020-10-11T11:48:10.289357Z",
     "iopub.status.idle": "2020-10-11T11:48:10.292843Z",
     "shell.execute_reply": "2020-10-11T11:48:10.292220Z"
    },
    "papermill": {
     "duration": 0.048544,
     "end_time": "2020-10-11T11:48:10.292984",
     "exception": false,
     "start_time": "2020-10-11T11:48:10.244440",
     "status": "completed"
    },
    "tags": []
   },
   "outputs": [],
   "source": [
    "X = data[[\"Open\", \"High\", \"Low\", \"Adj Close\", \"Volume\", \"mon_fri\"]].values\n",
    "y = data[\"Close\"].values"
   ]
  },
  {
   "cell_type": "code",
   "execution_count": 8,
   "metadata": {
    "execution": {
     "iopub.execute_input": "2020-10-11T11:48:10.377875Z",
     "iopub.status.busy": "2020-10-11T11:48:10.376881Z",
     "iopub.status.idle": "2020-10-11T11:48:10.382995Z",
     "shell.execute_reply": "2020-10-11T11:48:10.383566Z"
    },
    "papermill": {
     "duration": 0.053107,
     "end_time": "2020-10-11T11:48:10.383765",
     "exception": false,
     "start_time": "2020-10-11T11:48:10.330658",
     "status": "completed"
    },
    "tags": []
   },
   "outputs": [
    {
     "name": "stdout",
     "output_type": "stream",
     "text": [
      "X_train shape: (1007, 6)\n",
      "X_test shape: (252, 6)\n",
      "y_train shape: (1007,)\n",
      "y_test shape: (252,)\n"
     ]
    }
   ],
   "source": [
    "# split the data into train test and split\n",
    "X_train, X_test, y_train, y_test = train_test_split(X, y, test_size=0.2, random_state=1)\n",
    "print(\"X_train shape:\", X_train.shape)\n",
    "print(\"X_test shape:\", X_test.shape)\n",
    "print(\"y_train shape:\", y_train.shape)\n",
    "print(\"y_test shape:\", y_test.shape)"
   ]
  },
  {
   "cell_type": "code",
   "execution_count": 9,
   "metadata": {
    "execution": {
     "iopub.execute_input": "2020-10-11T11:48:10.467466Z",
     "iopub.status.busy": "2020-10-11T11:48:10.466647Z",
     "iopub.status.idle": "2020-10-11T11:48:10.509186Z",
     "shell.execute_reply": "2020-10-11T11:48:10.508475Z"
    },
    "papermill": {
     "duration": 0.087761,
     "end_time": "2020-10-11T11:48:10.509332",
     "exception": false,
     "start_time": "2020-10-11T11:48:10.421571",
     "status": "completed"
    },
    "tags": []
   },
   "outputs": [
    {
     "name": "stdout",
     "output_type": "stream",
     "text": [
      "[785.309998 724.890015 760.539978 548.163452 498.128784]\n"
     ]
    }
   ],
   "source": [
    "# create model and fit the data\n",
    "lr_model = LinearRegression()\n",
    "lr_model.fit(X_train, y_train)\n",
    "y_hat = lr_model.predict(X_test)\n",
    "print(y_hat[0:5])"
   ]
  },
  {
   "cell_type": "markdown",
   "metadata": {
    "papermill": {
     "duration": 0.03845,
     "end_time": "2020-10-11T11:48:10.586738",
     "exception": false,
     "start_time": "2020-10-11T11:48:10.548288",
     "status": "completed"
    },
    "tags": []
   },
   "source": [
    "Use Test dataset to test the data"
   ]
  },
  {
   "cell_type": "code",
   "execution_count": 10,
   "metadata": {
    "execution": {
     "iopub.execute_input": "2020-10-11T11:48:10.672204Z",
     "iopub.status.busy": "2020-10-11T11:48:10.671166Z",
     "iopub.status.idle": "2020-10-11T11:48:10.698402Z",
     "shell.execute_reply": "2020-10-11T11:48:10.697743Z"
    },
    "papermill": {
     "duration": 0.07306,
     "end_time": "2020-10-11T11:48:10.698535",
     "exception": false,
     "start_time": "2020-10-11T11:48:10.625475",
     "status": "completed"
    },
    "tags": []
   },
   "outputs": [
    {
     "data": {
      "text/html": [
       "<div>\n",
       "<style scoped>\n",
       "    .dataframe tbody tr th:only-of-type {\n",
       "        vertical-align: middle;\n",
       "    }\n",
       "\n",
       "    .dataframe tbody tr th {\n",
       "        vertical-align: top;\n",
       "    }\n",
       "\n",
       "    .dataframe thead th {\n",
       "        text-align: right;\n",
       "    }\n",
       "</style>\n",
       "<table border=\"1\" class=\"dataframe\">\n",
       "  <thead>\n",
       "    <tr style=\"text-align: right;\">\n",
       "      <th></th>\n",
       "      <th>Date</th>\n",
       "      <th>Open</th>\n",
       "      <th>High</th>\n",
       "      <th>Low</th>\n",
       "      <th>Close</th>\n",
       "      <th>Adj Close</th>\n",
       "      <th>Volume</th>\n",
       "    </tr>\n",
       "  </thead>\n",
       "  <tbody>\n",
       "    <tr>\n",
       "      <th>0</th>\n",
       "      <td>2018-01-02</td>\n",
       "      <td>1048.339966</td>\n",
       "      <td>1066.939941</td>\n",
       "      <td>1045.229980</td>\n",
       "      <td>1065.000000</td>\n",
       "      <td>1065.000000</td>\n",
       "      <td>1237600</td>\n",
       "    </tr>\n",
       "    <tr>\n",
       "      <th>1</th>\n",
       "      <td>2018-01-03</td>\n",
       "      <td>1064.310059</td>\n",
       "      <td>1086.290039</td>\n",
       "      <td>1063.209961</td>\n",
       "      <td>1082.479980</td>\n",
       "      <td>1082.479980</td>\n",
       "      <td>1430200</td>\n",
       "    </tr>\n",
       "    <tr>\n",
       "      <th>2</th>\n",
       "      <td>2018-01-04</td>\n",
       "      <td>1088.000000</td>\n",
       "      <td>1093.569946</td>\n",
       "      <td>1084.001953</td>\n",
       "      <td>1086.400024</td>\n",
       "      <td>1086.400024</td>\n",
       "      <td>1004600</td>\n",
       "    </tr>\n",
       "    <tr>\n",
       "      <th>3</th>\n",
       "      <td>2018-01-05</td>\n",
       "      <td>1094.000000</td>\n",
       "      <td>1104.250000</td>\n",
       "      <td>1092.000000</td>\n",
       "      <td>1102.229980</td>\n",
       "      <td>1102.229980</td>\n",
       "      <td>1279100</td>\n",
       "    </tr>\n",
       "    <tr>\n",
       "      <th>4</th>\n",
       "      <td>2018-01-08</td>\n",
       "      <td>1102.229980</td>\n",
       "      <td>1111.270020</td>\n",
       "      <td>1101.619995</td>\n",
       "      <td>1106.939941</td>\n",
       "      <td>1106.939941</td>\n",
       "      <td>1047600</td>\n",
       "    </tr>\n",
       "  </tbody>\n",
       "</table>\n",
       "</div>"
      ],
      "text/plain": [
       "         Date         Open         High          Low        Close  \\\n",
       "0  2018-01-02  1048.339966  1066.939941  1045.229980  1065.000000   \n",
       "1  2018-01-03  1064.310059  1086.290039  1063.209961  1082.479980   \n",
       "2  2018-01-04  1088.000000  1093.569946  1084.001953  1086.400024   \n",
       "3  2018-01-05  1094.000000  1104.250000  1092.000000  1102.229980   \n",
       "4  2018-01-08  1102.229980  1111.270020  1101.619995  1106.939941   \n",
       "\n",
       "     Adj Close   Volume  \n",
       "0  1065.000000  1237600  \n",
       "1  1082.479980  1430200  \n",
       "2  1086.400024  1004600  \n",
       "3  1102.229980  1279100  \n",
       "4  1106.939941  1047600  "
      ]
     },
     "execution_count": 10,
     "metadata": {},
     "output_type": "execute_result"
    }
   ],
   "source": [
    "test_data = pd.read_csv(\"/kaggle/input/stock-data/testset.csv\")\n",
    "test_data.head()"
   ]
  },
  {
   "cell_type": "code",
   "execution_count": 11,
   "metadata": {
    "execution": {
     "iopub.execute_input": "2020-10-11T11:48:10.814046Z",
     "iopub.status.busy": "2020-10-11T11:48:10.808182Z",
     "iopub.status.idle": "2020-10-11T11:48:10.857733Z",
     "shell.execute_reply": "2020-10-11T11:48:10.858618Z"
    },
    "papermill": {
     "duration": 0.114891,
     "end_time": "2020-10-11T11:48:10.858859",
     "exception": false,
     "start_time": "2020-10-11T11:48:10.743968",
     "status": "completed"
    },
    "tags": []
   },
   "outputs": [
    {
     "name": "stderr",
     "output_type": "stream",
     "text": [
      "/opt/conda/lib/python3.7/site-packages/ipykernel_launcher.py:10: SettingWithCopyWarning: \n",
      "A value is trying to be set on a copy of a slice from a DataFrame\n",
      "\n",
      "See the caveats in the documentation: https://pandas.pydata.org/pandas-docs/stable/user_guide/indexing.html#returning-a-view-versus-a-copy\n",
      "  # Remove the CWD from sys.path while we load stuff.\n",
      "/opt/conda/lib/python3.7/site-packages/ipykernel_launcher.py:8: SettingWithCopyWarning: \n",
      "A value is trying to be set on a copy of a slice from a DataFrame\n",
      "\n",
      "See the caveats in the documentation: https://pandas.pydata.org/pandas-docs/stable/user_guide/indexing.html#returning-a-view-versus-a-copy\n",
      "  \n"
     ]
    },
    {
     "data": {
      "text/html": [
       "<div>\n",
       "<style scoped>\n",
       "    .dataframe tbody tr th:only-of-type {\n",
       "        vertical-align: middle;\n",
       "    }\n",
       "\n",
       "    .dataframe tbody tr th {\n",
       "        vertical-align: top;\n",
       "    }\n",
       "\n",
       "    .dataframe thead th {\n",
       "        text-align: right;\n",
       "    }\n",
       "</style>\n",
       "<table border=\"1\" class=\"dataframe\">\n",
       "  <thead>\n",
       "    <tr style=\"text-align: right;\">\n",
       "      <th></th>\n",
       "      <th>Date</th>\n",
       "      <th>Open</th>\n",
       "      <th>High</th>\n",
       "      <th>Low</th>\n",
       "      <th>Close</th>\n",
       "      <th>Adj Close</th>\n",
       "      <th>Volume</th>\n",
       "      <th>dayofweek</th>\n",
       "      <th>mon_fri</th>\n",
       "    </tr>\n",
       "  </thead>\n",
       "  <tbody>\n",
       "    <tr>\n",
       "      <th>0</th>\n",
       "      <td>2018-01-02</td>\n",
       "      <td>1048.339966</td>\n",
       "      <td>1066.939941</td>\n",
       "      <td>1045.229980</td>\n",
       "      <td>1065.000000</td>\n",
       "      <td>1065.000000</td>\n",
       "      <td>1237600</td>\n",
       "      <td>1</td>\n",
       "      <td>0</td>\n",
       "    </tr>\n",
       "    <tr>\n",
       "      <th>1</th>\n",
       "      <td>2018-01-03</td>\n",
       "      <td>1064.310059</td>\n",
       "      <td>1086.290039</td>\n",
       "      <td>1063.209961</td>\n",
       "      <td>1082.479980</td>\n",
       "      <td>1082.479980</td>\n",
       "      <td>1430200</td>\n",
       "      <td>2</td>\n",
       "      <td>0</td>\n",
       "    </tr>\n",
       "    <tr>\n",
       "      <th>2</th>\n",
       "      <td>2018-01-04</td>\n",
       "      <td>1088.000000</td>\n",
       "      <td>1093.569946</td>\n",
       "      <td>1084.001953</td>\n",
       "      <td>1086.400024</td>\n",
       "      <td>1086.400024</td>\n",
       "      <td>1004600</td>\n",
       "      <td>3</td>\n",
       "      <td>0</td>\n",
       "    </tr>\n",
       "    <tr>\n",
       "      <th>3</th>\n",
       "      <td>2018-01-05</td>\n",
       "      <td>1094.000000</td>\n",
       "      <td>1104.250000</td>\n",
       "      <td>1092.000000</td>\n",
       "      <td>1102.229980</td>\n",
       "      <td>1102.229980</td>\n",
       "      <td>1279100</td>\n",
       "      <td>4</td>\n",
       "      <td>1</td>\n",
       "    </tr>\n",
       "    <tr>\n",
       "      <th>4</th>\n",
       "      <td>2018-01-08</td>\n",
       "      <td>1102.229980</td>\n",
       "      <td>1111.270020</td>\n",
       "      <td>1101.619995</td>\n",
       "      <td>1106.939941</td>\n",
       "      <td>1106.939941</td>\n",
       "      <td>1047600</td>\n",
       "      <td>0</td>\n",
       "      <td>1</td>\n",
       "    </tr>\n",
       "  </tbody>\n",
       "</table>\n",
       "</div>"
      ],
      "text/plain": [
       "        Date         Open         High          Low        Close    Adj Close  \\\n",
       "0 2018-01-02  1048.339966  1066.939941  1045.229980  1065.000000  1065.000000   \n",
       "1 2018-01-03  1064.310059  1086.290039  1063.209961  1082.479980  1082.479980   \n",
       "2 2018-01-04  1088.000000  1093.569946  1084.001953  1086.400024  1086.400024   \n",
       "3 2018-01-05  1094.000000  1104.250000  1092.000000  1102.229980  1102.229980   \n",
       "4 2018-01-08  1102.229980  1111.270020  1101.619995  1106.939941  1106.939941   \n",
       "\n",
       "    Volume  dayofweek  mon_fri  \n",
       "0  1237600          1        0  \n",
       "1  1430200          2        0  \n",
       "2  1004600          3        0  \n",
       "3  1279100          4        1  \n",
       "4  1047600          0        1  "
      ]
     },
     "execution_count": 11,
     "metadata": {},
     "output_type": "execute_result"
    }
   ],
   "source": [
    "# convert date into dayof week\n",
    "test_data[\"Date\"] = pd.to_datetime(test_data[\"Date\"])\n",
    "test_data[\"dayofweek\"] = test_data[\"Date\"].dt.dayofweek\n",
    "\n",
    "test_data['mon_fri'] = 0\n",
    "for i in range(0,len(test_data)):\n",
    "    if (test_data['dayofweek'][i] == 0 or test_data['dayofweek'][i] == 4):\n",
    "        test_data['mon_fri'][i] = 1\n",
    "    else:\n",
    "        test_data['mon_fri'][i] = 0\n",
    "    \n",
    "test_data.head()"
   ]
  },
  {
   "cell_type": "code",
   "execution_count": 12,
   "metadata": {
    "execution": {
     "iopub.execute_input": "2020-10-11T11:48:10.957018Z",
     "iopub.status.busy": "2020-10-11T11:48:10.955811Z",
     "iopub.status.idle": "2020-10-11T11:48:10.959353Z",
     "shell.execute_reply": "2020-10-11T11:48:10.959920Z"
    },
    "papermill": {
     "duration": 0.05417,
     "end_time": "2020-10-11T11:48:10.960143",
     "exception": false,
     "start_time": "2020-10-11T11:48:10.905973",
     "status": "completed"
    },
    "tags": []
   },
   "outputs": [],
   "source": [
    "y_testdata = test_data[\"Close\"].values\n",
    "X_testdata = test_data[[\"Open\", \"High\", \"Low\", \"Adj Close\", \"Volume\", \"mon_fri\"]].values"
   ]
  },
  {
   "cell_type": "code",
   "execution_count": 13,
   "metadata": {
    "execution": {
     "iopub.execute_input": "2020-10-11T11:48:11.051480Z",
     "iopub.status.busy": "2020-10-11T11:48:11.050408Z",
     "iopub.status.idle": "2020-10-11T11:48:11.054463Z",
     "shell.execute_reply": "2020-10-11T11:48:11.055143Z"
    },
    "papermill": {
     "duration": 0.053996,
     "end_time": "2020-10-11T11:48:11.055328",
     "exception": false,
     "start_time": "2020-10-11T11:48:11.001332",
     "status": "completed"
    },
    "tags": []
   },
   "outputs": [
    {
     "name": "stdout",
     "output_type": "stream",
     "text": [
      "[1065.       1082.47998  1086.400024 1102.22998  1106.939941]\n",
      "[1065.       1082.47998  1086.400024 1102.22998  1106.939941]\n"
     ]
    }
   ],
   "source": [
    "# use data to predict values\n",
    "y_predict = lr_model.predict(X_testdata)\n",
    "print(y_predict[0:5])\n",
    "print(y_testdata[0:5])"
   ]
  },
  {
   "cell_type": "code",
   "execution_count": 14,
   "metadata": {
    "execution": {
     "iopub.execute_input": "2020-10-11T11:48:11.146872Z",
     "iopub.status.busy": "2020-10-11T11:48:11.145923Z",
     "iopub.status.idle": "2020-10-11T11:48:11.150264Z",
     "shell.execute_reply": "2020-10-11T11:48:11.149514Z"
    },
    "papermill": {
     "duration": 0.053685,
     "end_time": "2020-10-11T11:48:11.150401",
     "exception": false,
     "start_time": "2020-10-11T11:48:11.096716",
     "status": "completed"
    },
    "tags": []
   },
   "outputs": [
    {
     "name": "stdout",
     "output_type": "stream",
     "text": [
      "Mean squared error: 0.00\n",
      "R²: 1.00\n"
     ]
    }
   ],
   "source": [
    "# calculate the accuracy of the model\n",
    "from sklearn.metrics import mean_squared_error, r2_score\n",
    "from math import sqrt\n",
    "print(\"Mean squared error: %.2f\" % mean_squared_error(y_test, y_hat))\n",
    "print('R²: %.2f' % r2_score(y_test, y_hat))"
   ]
  },
  {
   "cell_type": "code",
   "execution_count": null,
   "metadata": {
    "collapsed": true,
    "papermill": {
     "duration": 0.042038,
     "end_time": "2020-10-11T11:48:11.234376",
     "exception": false,
     "start_time": "2020-10-11T11:48:11.192338",
     "status": "completed"
    },
    "tags": []
   },
   "outputs": [],
   "source": []
  },
  {
   "cell_type": "markdown",
   "metadata": {
    "papermill": {
     "duration": 0.042059,
     "end_time": "2020-10-11T11:48:11.319501",
     "exception": false,
     "start_time": "2020-10-11T11:48:11.277442",
     "status": "completed"
    },
    "tags": []
   },
   "source": []
  },
  {
   "cell_type": "markdown",
   "metadata": {
    "papermill": {
     "duration": 0.042504,
     "end_time": "2020-10-11T11:48:11.404338",
     "exception": false,
     "start_time": "2020-10-11T11:48:11.361834",
     "status": "completed"
    },
    "tags": []
   },
   "source": []
  },
  {
   "cell_type": "markdown",
   "metadata": {
    "papermill": {
     "duration": 0.042854,
     "end_time": "2020-10-11T11:48:11.489381",
     "exception": false,
     "start_time": "2020-10-11T11:48:11.446527",
     "status": "completed"
    },
    "tags": []
   },
   "source": []
  },
  {
   "cell_type": "code",
   "execution_count": null,
   "metadata": {
    "papermill": {
     "duration": 0.042409,
     "end_time": "2020-10-11T11:48:11.574996",
     "exception": false,
     "start_time": "2020-10-11T11:48:11.532587",
     "status": "completed"
    },
    "tags": []
   },
   "outputs": [],
   "source": []
  },
  {
   "cell_type": "code",
   "execution_count": null,
   "metadata": {
    "papermill": {
     "duration": 0.041564,
     "end_time": "2020-10-11T11:48:11.659599",
     "exception": false,
     "start_time": "2020-10-11T11:48:11.618035",
     "status": "completed"
    },
    "tags": []
   },
   "outputs": [],
   "source": []
  },
  {
   "cell_type": "code",
   "execution_count": null,
   "metadata": {
    "papermill": {
     "duration": 0.047041,
     "end_time": "2020-10-11T11:48:11.748388",
     "exception": false,
     "start_time": "2020-10-11T11:48:11.701347",
     "status": "completed"
    },
    "tags": []
   },
   "outputs": [],
   "source": []
  },
  {
   "cell_type": "code",
   "execution_count": null,
   "metadata": {
    "papermill": {
     "duration": 0.055577,
     "end_time": "2020-10-11T11:48:11.849381",
     "exception": false,
     "start_time": "2020-10-11T11:48:11.793804",
     "status": "completed"
    },
    "tags": []
   },
   "outputs": [],
   "source": []
  },
  {
   "cell_type": "code",
   "execution_count": null,
   "metadata": {
    "papermill": {
     "duration": 0.04392,
     "end_time": "2020-10-11T11:48:11.942797",
     "exception": false,
     "start_time": "2020-10-11T11:48:11.898877",
     "status": "completed"
    },
    "tags": []
   },
   "outputs": [],
   "source": []
  },
  {
   "cell_type": "code",
   "execution_count": null,
   "metadata": {
    "papermill": {
     "duration": 0.047634,
     "end_time": "2020-10-11T11:48:12.032363",
     "exception": false,
     "start_time": "2020-10-11T11:48:11.984729",
     "status": "completed"
    },
    "tags": []
   },
   "outputs": [],
   "source": []
  },
  {
   "cell_type": "code",
   "execution_count": null,
   "metadata": {
    "papermill": {
     "duration": 0.041178,
     "end_time": "2020-10-11T11:48:12.120946",
     "exception": false,
     "start_time": "2020-10-11T11:48:12.079768",
     "status": "completed"
    },
    "tags": []
   },
   "outputs": [],
   "source": []
  },
  {
   "cell_type": "code",
   "execution_count": null,
   "metadata": {
    "papermill": {
     "duration": 0.041546,
     "end_time": "2020-10-11T11:48:12.204907",
     "exception": false,
     "start_time": "2020-10-11T11:48:12.163361",
     "status": "completed"
    },
    "tags": []
   },
   "outputs": [],
   "source": []
  },
  {
   "cell_type": "code",
   "execution_count": null,
   "metadata": {
    "papermill": {
     "duration": 0.042028,
     "end_time": "2020-10-11T11:48:12.289006",
     "exception": false,
     "start_time": "2020-10-11T11:48:12.246978",
     "status": "completed"
    },
    "tags": []
   },
   "outputs": [],
   "source": []
  },
  {
   "cell_type": "code",
   "execution_count": null,
   "metadata": {
    "papermill": {
     "duration": 0.041734,
     "end_time": "2020-10-11T11:48:12.372574",
     "exception": false,
     "start_time": "2020-10-11T11:48:12.330840",
     "status": "completed"
    },
    "tags": []
   },
   "outputs": [],
   "source": []
  },
  {
   "cell_type": "code",
   "execution_count": null,
   "metadata": {
    "papermill": {
     "duration": 0.041939,
     "end_time": "2020-10-11T11:48:12.456232",
     "exception": false,
     "start_time": "2020-10-11T11:48:12.414293",
     "status": "completed"
    },
    "tags": []
   },
   "outputs": [],
   "source": []
  },
  {
   "cell_type": "code",
   "execution_count": null,
   "metadata": {
    "papermill": {
     "duration": 0.041953,
     "end_time": "2020-10-11T11:48:12.545448",
     "exception": false,
     "start_time": "2020-10-11T11:48:12.503495",
     "status": "completed"
    },
    "tags": []
   },
   "outputs": [],
   "source": []
  },
  {
   "cell_type": "code",
   "execution_count": null,
   "metadata": {
    "papermill": {
     "duration": 0.041934,
     "end_time": "2020-10-11T11:48:12.628946",
     "exception": false,
     "start_time": "2020-10-11T11:48:12.587012",
     "status": "completed"
    },
    "tags": []
   },
   "outputs": [],
   "source": []
  },
  {
   "cell_type": "code",
   "execution_count": null,
   "metadata": {
    "papermill": {
     "duration": 0.041673,
     "end_time": "2020-10-11T11:48:12.712220",
     "exception": false,
     "start_time": "2020-10-11T11:48:12.670547",
     "status": "completed"
    },
    "tags": []
   },
   "outputs": [],
   "source": []
  },
  {
   "cell_type": "code",
   "execution_count": null,
   "metadata": {
    "papermill": {
     "duration": 0.042282,
     "end_time": "2020-10-11T11:48:12.797528",
     "exception": false,
     "start_time": "2020-10-11T11:48:12.755246",
     "status": "completed"
    },
    "tags": []
   },
   "outputs": [],
   "source": []
  },
  {
   "cell_type": "code",
   "execution_count": null,
   "metadata": {
    "papermill": {
     "duration": 0.040996,
     "end_time": "2020-10-11T11:48:12.880016",
     "exception": false,
     "start_time": "2020-10-11T11:48:12.839020",
     "status": "completed"
    },
    "tags": []
   },
   "outputs": [],
   "source": []
  },
  {
   "cell_type": "code",
   "execution_count": null,
   "metadata": {
    "papermill": {
     "duration": 0.042855,
     "end_time": "2020-10-11T11:48:12.964466",
     "exception": false,
     "start_time": "2020-10-11T11:48:12.921611",
     "status": "completed"
    },
    "tags": []
   },
   "outputs": [],
   "source": []
  },
  {
   "cell_type": "code",
   "execution_count": null,
   "metadata": {
    "papermill": {
     "duration": 0.041854,
     "end_time": "2020-10-11T11:48:13.049387",
     "exception": false,
     "start_time": "2020-10-11T11:48:13.007533",
     "status": "completed"
    },
    "tags": []
   },
   "outputs": [],
   "source": []
  },
  {
   "cell_type": "code",
   "execution_count": null,
   "metadata": {
    "papermill": {
     "duration": 0.041722,
     "end_time": "2020-10-11T11:48:13.135670",
     "exception": false,
     "start_time": "2020-10-11T11:48:13.093948",
     "status": "completed"
    },
    "tags": []
   },
   "outputs": [],
   "source": []
  },
  {
   "cell_type": "code",
   "execution_count": null,
   "metadata": {
    "papermill": {
     "duration": 0.042111,
     "end_time": "2020-10-11T11:48:13.220529",
     "exception": false,
     "start_time": "2020-10-11T11:48:13.178418",
     "status": "completed"
    },
    "tags": []
   },
   "outputs": [],
   "source": []
  },
  {
   "cell_type": "code",
   "execution_count": null,
   "metadata": {
    "papermill": {
     "duration": 0.041021,
     "end_time": "2020-10-11T11:48:13.303307",
     "exception": false,
     "start_time": "2020-10-11T11:48:13.262286",
     "status": "completed"
    },
    "tags": []
   },
   "outputs": [],
   "source": []
  },
  {
   "cell_type": "code",
   "execution_count": null,
   "metadata": {
    "papermill": {
     "duration": 0.040943,
     "end_time": "2020-10-11T11:48:13.385693",
     "exception": false,
     "start_time": "2020-10-11T11:48:13.344750",
     "status": "completed"
    },
    "tags": []
   },
   "outputs": [],
   "source": []
  }
 ],
 "metadata": {
  "kernelspec": {
   "display_name": "Python 3",
   "language": "python",
   "name": "python3"
  },
  "language_info": {
   "codemirror_mode": {
    "name": "ipython",
    "version": 3
   },
   "file_extension": ".py",
   "mimetype": "text/x-python",
   "name": "python",
   "nbconvert_exporter": "python",
   "pygments_lexer": "ipython3",
   "version": "3.7.6"
  },
  "papermill": {
   "duration": 12.065992,
   "end_time": "2020-10-11T11:48:14.470550",
   "environment_variables": {},
   "exception": null,
   "input_path": "__notebook__.ipynb",
   "output_path": "__notebook__.ipynb",
   "parameters": {},
   "start_time": "2020-10-11T11:48:02.404558",
   "version": "2.1.0"
  }
 },
 "nbformat": 4,
 "nbformat_minor": 4
}
